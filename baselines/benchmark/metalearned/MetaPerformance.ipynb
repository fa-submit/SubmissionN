{
 "cells": [
  {
   "cell_type": "code",
   "execution_count": 1,
   "metadata": {},
   "outputs": [],
   "source": [
    "%load_ext autoreload\n",
    "%autoreload 2\n",
    "%matplotlib inline\n",
    "\n",
    "import os\n",
    "from glob import glob\n",
    "\n",
    "from IPython.display import display\n",
    "import numpy as np\n",
    "import pandas as pd\n",
    "from tqdm import tqdm\n",
    "\n",
    "from common.utils import median_ensemble"
   ]
  },
  {
   "cell_type": "code",
   "execution_count": 2,
   "metadata": {},
   "outputs": [],
   "source": [
    "from common.summary_utils import EnsembleStatistics\n",
    "from common.metrics import smape_1, smape_2, nd, mape\n",
    "\n",
    "# M4\n",
    "from resources.m4.dataset import M4Dataset, M4Meta\n",
    "from resources.m4.evaluator import M4Evaluator\n",
    "\n",
    "class M4Statistics:\n",
    "    def __init__(self, **args):\n",
    "        self.training, self.target = M4Dataset(M4Meta.dataset_path).standard_split()\n",
    "        self.evaluator = M4Evaluator(self.target, **args)\n",
    "        \n",
    "    def evaluate(self, predictions):\n",
    "        return self.evaluator.evaluate(self.training.future_values([p[~np.isnan(p)] for p in predictions]))\n",
    "    \n",
    "# M3\n",
    "from resources.m3.dataset import M3Dataset, M3Meta\n",
    "from resources.m3.evaluator import M3Evaluator\n",
    "\n",
    "class M3Statistics:\n",
    "    def __init__(self, **args):\n",
    "        self.training, self.target = M3Dataset(M3Meta.dataset_path).standard_split()\n",
    "        self.evaluator = M3Evaluator(self.target, **args)\n",
    "        \n",
    "    def evaluate(self, predictions):\n",
    "        return self.evaluator.evaluate(self.training.future_values([p[~np.isnan(p)] for p in predictions]))\n",
    "\n",
    "    \n",
    "# TOURISM\n",
    "from resources.tourism.dataset import TourismDataset, TourismMeta\n",
    "from resources.tourism.evaluator import TourismEvaluator\n",
    "\n",
    "class TourismStatistics:\n",
    "    def __init__(self, **args):\n",
    "        self.training, self.target = TourismDataset(TourismMeta.dataset_path).standard_split()\n",
    "        self.evaluator = TourismEvaluator(self.target, **args)\n",
    "        \n",
    "    def evaluate(self, predictions):\n",
    "        return self.evaluator.evaluate(self.training.future_values([p[~np.isnan(p)] for p in predictions]))\n",
    "    \n",
    "\n",
    "def collect_statistics(filter_path, evaluator):\n",
    "    statistics = EnsembleStatistics(filter_path=filter_path, evaluator=evaluator)\n",
    "\n",
    "    bootstrap = statistics.bootstrap(ensemble_keys=['repeats', 'lookback_period', 'loss_name'], \n",
    "                                     bootstrap_key='repeats', \n",
    "                                     bootstrap_size=5, \n",
    "                                     number_of_samples=1)\n",
    "\n",
    "    return statistics, bootstrap\n",
    "\n",
    "#######################################\n",
    "\n",
    "def assemble_results(experiment_path):\n",
    "#     m4_statistics, m4_bootstrap = collect_statistics(f'{experiment_path}/M4.csv', M4Statistics())\n",
    "    m3_statistics, m3_bootstrap = collect_statistics(f'{experiment_path}/M3.csv', M3Statistics())\n",
    "    tourism_statistics, tourism_bootstrap = collect_statistics(f'{experiment_path}/tourism.csv', TourismStatistics())\n",
    "    \n",
    "    result = {\n",
    "#         'm4_custom': m4_bootstrap.groupby('evaluation_key').mean()[['metric']].transpose()[['Daily', 'D+W', 'D+W+M', 'D+W+M+Y']],\n",
    "#         'm4': m4_bootstrap.groupby('evaluation_key').mean()[['metric']].transpose()[['Yearly', 'Quarterly', 'Monthly', 'Others', 'Average']],\n",
    "        'm3': m3_bootstrap.groupby('evaluation_key').mean()[['metric']].transpose()[['M3Year', 'M3Quart', 'M3Month', 'M3Other', 'Average']],\n",
    "        'tourism': tourism_bootstrap.groupby('evaluation_key').mean()[['metric']].transpose()[['Yearly', 'Quarterly', 'Monthly', 'Average']],\n",
    "    }\n",
    "    \n",
    "    for k, v in result.items():\n",
    "        print(k)\n",
    "        display(v)\n",
    "    \n",
    "    return m3_statistics, tourism_statistics"
   ]
  },
  {
   "cell_type": "code",
   "execution_count": 73,
   "metadata": {},
   "outputs": [
    {
     "name": "stdout",
     "output_type": "stream",
     "text": [
      "repeats=0,lookback_period=2,loss_name=MAPE,source_dataset=M4\n",
      "OrderedDict([('M3Year', 28.27), ('M3Quart', 13.93), ('M3Month', 20.65), ('M3Other', 14.33), ('Average', 20.11)])\n",
      "repeats=0,lookback_period=3,loss_name=MAPE,source_dataset=M4\n",
      "OrderedDict([('M3Year', 38.9), ('M3Quart', 14.96), ('M3Month', 21.7), ('M3Other', 18.49), ('Average', 22.28)])\n",
      "repeats=0,lookback_period=4,loss_name=MAPE,source_dataset=M4\n",
      "OrderedDict([('M3Year', 47.98), ('M3Quart', 16.0), ('M3Month', 21.79), ('M3Other', 22.18), ('Average', 23.6)])\n",
      "repeats=0,lookback_period=5,loss_name=MAPE,source_dataset=M4\n",
      "OrderedDict([('M3Year', 56.14), ('M3Quart', 17.6), ('M3Month', 23.23), ('M3Other', 25.42), ('Average', 25.83)])\n",
      "repeats=0,lookback_period=6,loss_name=MAPE,source_dataset=M4\n",
      "OrderedDict([('M3Year', 63.48), ('M3Quart', 19.23), ('M3Month', 24.75), ('M3Other', 28.62), ('Average', 28.04)])\n",
      "repeats=0,lookback_period=7,loss_name=MAPE,source_dataset=M4\n",
      "OrderedDict([('M3Year', 70.0), ('M3Quart', 21.73), ('M3Month', 25.01), ('M3Other', 31.62), ('Average', 29.43)])\n"
     ]
    }
   ],
   "source": [
    "for i in range(2,8):\n",
    "    j = f'repeats=0,lookback_period={str(i)},loss_name=MAPE,source_dataset=M4'\n",
    "    print(j)\n",
    "    j = m3.parameters.index(j)\n",
    "    print(M3Statistics().evaluate(m3.predictions[j].values))"
   ]
  },
  {
   "cell_type": "code",
   "execution_count": 27,
   "metadata": {},
   "outputs": [
    {
     "name": "stdout",
     "output_type": "stream",
     "text": [
      "repeats=0,lookback_period=2,loss_name=MAPE,source_dataset=M4\n",
      "OrderedDict([('Yearly', 37.88), ('Quarterly', 57.59), ('Monthly', 88.13), ('Average', 73.52)])\n",
      "repeats=0,lookback_period=3,loss_name=MAPE,source_dataset=M4\n",
      "OrderedDict([('Yearly', 42.9), ('Quarterly', 51.41), ('Monthly', 77.0), ('Average', 65.93)])\n",
      "repeats=0,lookback_period=4,loss_name=MAPE,source_dataset=M4\n",
      "OrderedDict([('Yearly', 47.0), ('Quarterly', 46.0), ('Monthly', 69.41), ('Average', 60.55)])\n",
      "repeats=0,lookback_period=5,loss_name=MAPE,source_dataset=M4\n",
      "OrderedDict([('Yearly', 50.58), ('Quarterly', 45.04), ('Monthly', 70.59), ('Average', 61.57)])\n",
      "repeats=0,lookback_period=6,loss_name=MAPE,source_dataset=M4\n",
      "OrderedDict([('Yearly', 53.85), ('Quarterly', 43.74), ('Monthly', 69.75), ('Average', 61.22)])\n",
      "repeats=0,lookback_period=7,loss_name=MAPE,source_dataset=M4\n",
      "OrderedDict([('Yearly', 57.42), ('Quarterly', 43.68), ('Monthly', 67.39), ('Average', 60.27)])\n"
     ]
    }
   ],
   "source": [
    "for i in range(2,8):\n",
    "    j = f'repeats=0,lookback_period={str(i)},loss_name=MAPE,source_dataset=M4'\n",
    "    print(j)\n",
    "    j = tourism.parameters.index(j)\n",
    "    print(TourismStatistics().evaluate(tourism.predictions[j].values))"
   ]
  },
  {
   "cell_type": "code",
   "execution_count": 92,
   "metadata": {},
   "outputs": [
    {
     "data": {
      "text/plain": [
       "OrderedDict([('Yearly', 42.55),\n",
       "             ('Quarterly', 44.65),\n",
       "             ('Monthly', 77.4),\n",
       "             ('Average', 64.5)])"
      ]
     },
     "execution_count": 92,
     "metadata": {},
     "output_type": "execute_result"
    }
   ],
   "source": [
    "df = pd.read_csv('project/shared_replicate/repeats=1,lookback_period=2,loss_name=MAPE,source_dataset=M4/tourism.csv').set_index('id')\n",
    "TourismStatistics().evaluate(df.values)"
   ]
  },
  {
   "cell_type": "code",
   "execution_count": 91,
   "metadata": {},
   "outputs": [
    {
     "data": {
      "text/plain": [
       "OrderedDict([('M3Year', 38.67),\n",
       "             ('M3Quart', 39.21),\n",
       "             ('M3Month', 50.93),\n",
       "             ('M3Other', 55.16),\n",
       "             ('Average', 47.89)])"
      ]
     },
     "execution_count": 91,
     "metadata": {},
     "output_type": "execute_result"
    }
   ],
   "source": [
    "df = pd.read_csv('project/shared_replicate/repeats=0,lookback_period=2,loss_name=MAPE,source_dataset=M4/M3.csv').set_index('id')\n",
    "M3Statistics().evaluate(df.values)"
   ]
  },
  {
   "cell_type": "code",
   "execution_count": 90,
   "metadata": {},
   "outputs": [
    {
     "data": {
      "text/plain": [
       "OrderedDict([('Yearly', 67.31),\n",
       "             ('Quarterly', 69.49),\n",
       "             ('Monthly', 99.82),\n",
       "             ('Average', 87.84)])"
      ]
     },
     "execution_count": 90,
     "metadata": {},
     "output_type": "execute_result"
    }
   ],
   "source": [
    "df = pd.read_csv('project/shared_replicate/repeats=0,lookback_period=2,loss_name=MAPE,source_dataset=M4/tourism.csv').set_index('id')\n",
    "TourismStatistics().evaluate(df.values)"
   ]
  },
  {
   "cell_type": "code",
   "execution_count": 5,
   "metadata": {},
   "outputs": [
    {
     "name": "stdout",
     "output_type": "stream",
     "text": [
      "ForecastPFN\n"
     ]
    },
    {
     "name": "stderr",
     "output_type": "stream",
     "text": [
      "100%|██████████| 180/180 [00:02<00:00, 62.87it/s]\n",
      "100%|██████████| 1/1 [00:00<00:00,  3.33it/s]\n",
      "100%|██████████| 180/180 [00:01<00:00, 111.20it/s]\n",
      "100%|██████████| 1/1 [00:00<00:00,  7.88it/s]"
     ]
    },
    {
     "name": "stdout",
     "output_type": "stream",
     "text": [
      "m3\n"
     ]
    },
    {
     "name": "stderr",
     "output_type": "stream",
     "text": [
      "\n",
      "/tmp/ipykernel_13365/74687009.py:62: FutureWarning: The default value of numeric_only in DataFrameGroupBy.mean is deprecated. In a future version, numeric_only will default to False. Either specify numeric_only or select only columns which should be valid for the function.\n",
      "  'm3': m3_bootstrap.groupby('evaluation_key').mean()[['metric']].transpose()[['M3Year', 'M3Quart', 'M3Month', 'M3Other', 'Average']],\n",
      "/tmp/ipykernel_13365/74687009.py:63: FutureWarning: The default value of numeric_only in DataFrameGroupBy.mean is deprecated. In a future version, numeric_only will default to False. Either specify numeric_only or select only columns which should be valid for the function.\n",
      "  'tourism': tourism_bootstrap.groupby('evaluation_key').mean()[['metric']].transpose()[['Yearly', 'Quarterly', 'Monthly', 'Average']],\n"
     ]
    },
    {
     "data": {
      "text/html": [
       "<div>\n",
       "<style scoped>\n",
       "    .dataframe tbody tr th:only-of-type {\n",
       "        vertical-align: middle;\n",
       "    }\n",
       "\n",
       "    .dataframe tbody tr th {\n",
       "        vertical-align: top;\n",
       "    }\n",
       "\n",
       "    .dataframe thead th {\n",
       "        text-align: right;\n",
       "    }\n",
       "</style>\n",
       "<table border=\"1\" class=\"dataframe\">\n",
       "  <thead>\n",
       "    <tr style=\"text-align: right;\">\n",
       "      <th>evaluation_key</th>\n",
       "      <th>M3Year</th>\n",
       "      <th>M3Quart</th>\n",
       "      <th>M3Month</th>\n",
       "      <th>M3Other</th>\n",
       "      <th>Average</th>\n",
       "    </tr>\n",
       "  </thead>\n",
       "  <tbody>\n",
       "    <tr>\n",
       "      <th>metric</th>\n",
       "      <td>37.83</td>\n",
       "      <td>12.61</td>\n",
       "      <td>16.01</td>\n",
       "      <td>10.71</td>\n",
       "      <td>17.54</td>\n",
       "    </tr>\n",
       "  </tbody>\n",
       "</table>\n",
       "</div>"
      ],
      "text/plain": [
       "evaluation_key  M3Year  M3Quart  M3Month  M3Other  Average\n",
       "metric           37.83    12.61    16.01    10.71    17.54"
      ]
     },
     "metadata": {},
     "output_type": "display_data"
    },
    {
     "name": "stdout",
     "output_type": "stream",
     "text": [
      "tourism\n"
     ]
    },
    {
     "data": {
      "text/html": [
       "<div>\n",
       "<style scoped>\n",
       "    .dataframe tbody tr th:only-of-type {\n",
       "        vertical-align: middle;\n",
       "    }\n",
       "\n",
       "    .dataframe tbody tr th {\n",
       "        vertical-align: top;\n",
       "    }\n",
       "\n",
       "    .dataframe thead th {\n",
       "        text-align: right;\n",
       "    }\n",
       "</style>\n",
       "<table border=\"1\" class=\"dataframe\">\n",
       "  <thead>\n",
       "    <tr style=\"text-align: right;\">\n",
       "      <th>evaluation_key</th>\n",
       "      <th>Yearly</th>\n",
       "      <th>Quarterly</th>\n",
       "      <th>Monthly</th>\n",
       "      <th>Average</th>\n",
       "    </tr>\n",
       "  </thead>\n",
       "  <tbody>\n",
       "    <tr>\n",
       "      <th>metric</th>\n",
       "      <td>57.68</td>\n",
       "      <td>18.78</td>\n",
       "      <td>36.42</td>\n",
       "      <td>35.28</td>\n",
       "    </tr>\n",
       "  </tbody>\n",
       "</table>\n",
       "</div>"
      ],
      "text/plain": [
       "evaluation_key  Yearly  Quarterly  Monthly  Average\n",
       "metric           57.68      18.78    36.42    35.28"
      ]
     },
     "metadata": {},
     "output_type": "display_data"
    }
   ],
   "source": [
    "print('ForecastPFN')\n",
    "m3, tourism = assemble_results(\n",
    "    'project/mf_replicate_testnoiseT_shuffle5Millilon.20230502-140223/*source_dataset=M4')\n"
   ]
  },
  {
   "cell_type": "code",
   "execution_count": 6,
   "metadata": {},
   "outputs": [
    {
     "name": "stdout",
     "output_type": "stream",
     "text": [
      "metalearned baseline\n"
     ]
    },
    {
     "name": "stderr",
     "output_type": "stream",
     "text": [
      "100%|██████████| 180/180 [00:02<00:00, 62.62it/s]\n",
      "100%|██████████| 1/1 [00:00<00:00,  2.98it/s]\n",
      "100%|██████████| 180/180 [00:01<00:00, 112.72it/s]\n",
      "100%|██████████| 1/1 [00:00<00:00, 10.57it/s]\n",
      "/tmp/ipykernel_13365/74687009.py:62: FutureWarning: The default value of numeric_only in DataFrameGroupBy.mean is deprecated. In a future version, numeric_only will default to False. Either specify numeric_only or select only columns which should be valid for the function.\n",
      "  'm3': m3_bootstrap.groupby('evaluation_key').mean()[['metric']].transpose()[['M3Year', 'M3Quart', 'M3Month', 'M3Other', 'Average']],\n",
      "/tmp/ipykernel_13365/74687009.py:63: FutureWarning: The default value of numeric_only in DataFrameGroupBy.mean is deprecated. In a future version, numeric_only will default to False. Either specify numeric_only or select only columns which should be valid for the function.\n",
      "  'tourism': tourism_bootstrap.groupby('evaluation_key').mean()[['metric']].transpose()[['Yearly', 'Quarterly', 'Monthly', 'Average']],\n"
     ]
    },
    {
     "name": "stdout",
     "output_type": "stream",
     "text": [
      "m3\n"
     ]
    },
    {
     "data": {
      "text/html": [
       "<div>\n",
       "<style scoped>\n",
       "    .dataframe tbody tr th:only-of-type {\n",
       "        vertical-align: middle;\n",
       "    }\n",
       "\n",
       "    .dataframe tbody tr th {\n",
       "        vertical-align: top;\n",
       "    }\n",
       "\n",
       "    .dataframe thead th {\n",
       "        text-align: right;\n",
       "    }\n",
       "</style>\n",
       "<table border=\"1\" class=\"dataframe\">\n",
       "  <thead>\n",
       "    <tr style=\"text-align: right;\">\n",
       "      <th>evaluation_key</th>\n",
       "      <th>M3Year</th>\n",
       "      <th>M3Quart</th>\n",
       "      <th>M3Month</th>\n",
       "      <th>M3Other</th>\n",
       "      <th>Average</th>\n",
       "    </tr>\n",
       "  </thead>\n",
       "  <tbody>\n",
       "    <tr>\n",
       "      <th>metric</th>\n",
       "      <td>15.23</td>\n",
       "      <td>9.1</td>\n",
       "      <td>13.25</td>\n",
       "      <td>4.34</td>\n",
       "      <td>12.45</td>\n",
       "    </tr>\n",
       "  </tbody>\n",
       "</table>\n",
       "</div>"
      ],
      "text/plain": [
       "evaluation_key  M3Year  M3Quart  M3Month  M3Other  Average\n",
       "metric           15.23      9.1    13.25     4.34    12.45"
      ]
     },
     "metadata": {},
     "output_type": "display_data"
    },
    {
     "name": "stdout",
     "output_type": "stream",
     "text": [
      "tourism\n"
     ]
    },
    {
     "data": {
      "text/html": [
       "<div>\n",
       "<style scoped>\n",
       "    .dataframe tbody tr th:only-of-type {\n",
       "        vertical-align: middle;\n",
       "    }\n",
       "\n",
       "    .dataframe tbody tr th {\n",
       "        vertical-align: top;\n",
       "    }\n",
       "\n",
       "    .dataframe thead th {\n",
       "        text-align: right;\n",
       "    }\n",
       "</style>\n",
       "<table border=\"1\" class=\"dataframe\">\n",
       "  <thead>\n",
       "    <tr style=\"text-align: right;\">\n",
       "      <th>evaluation_key</th>\n",
       "      <th>Yearly</th>\n",
       "      <th>Quarterly</th>\n",
       "      <th>Monthly</th>\n",
       "      <th>Average</th>\n",
       "    </tr>\n",
       "  </thead>\n",
       "  <tbody>\n",
       "    <tr>\n",
       "      <th>metric</th>\n",
       "      <td>23.47</td>\n",
       "      <td>14.56</td>\n",
       "      <td>19.33</td>\n",
       "      <td>18.79</td>\n",
       "    </tr>\n",
       "  </tbody>\n",
       "</table>\n",
       "</div>"
      ],
      "text/plain": [
       "evaluation_key  Yearly  Quarterly  Monthly  Average\n",
       "metric           23.47      14.56    19.33    18.79"
      ]
     },
     "metadata": {},
     "output_type": "display_data"
    },
    {
     "data": {
      "text/plain": [
       "(<common.summary_utils.EnsembleStatistics at 0x7fe18dec65e0>,\n",
       " <common.summary_utils.EnsembleStatistics at 0x7fe1942f41c0>)"
      ]
     },
     "execution_count": 6,
     "metadata": {},
     "output_type": "execute_result"
    }
   ],
   "source": [
    "print('metalearned baseline')\n",
    "assemble_results('project/shared_original/shared/*source_dataset=M4')"
   ]
  }
 ],
 "metadata": {
  "kernelspec": {
   "display_name": "Python 3",
   "language": "python",
   "name": "python3"
  },
  "language_info": {
   "codemirror_mode": {
    "name": "ipython",
    "version": 3
   },
   "file_extension": ".py",
   "mimetype": "text/x-python",
   "name": "python",
   "nbconvert_exporter": "python",
   "pygments_lexer": "ipython3",
   "version": "3.8.10 (default, Mar 13 2023, 10:26:41) \n[GCC 9.4.0]"
  },
  "vscode": {
   "interpreter": {
    "hash": "916dbcbb3f70747c44a77c7bcd40155683ae19c65e1c03b4aa3499c5328201f1"
   }
  }
 },
 "nbformat": 4,
 "nbformat_minor": 4
}
